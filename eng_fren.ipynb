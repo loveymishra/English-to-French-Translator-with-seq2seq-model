{
 "cells": [
  {
   "cell_type": "code",
   "execution_count": 3,
   "metadata": {
    "id": "K1LJb-koVi2F"
   },
   "outputs": [],
   "source": [
    "import os\n",
    "import random\n",
    "import collections\n",
    "import numpy as np\n",
    "from tensorflow.keras.preprocessing.text import Tokenizer\n",
    "from tensorflow.keras.preprocessing.sequence import pad_sequences\n",
    "from tensorflow.keras.models import Sequential\n",
    "from tensorflow.keras.layers import GRU, Dense, TimeDistributed, Embedding\n",
    "from tensorflow.keras.optimizers import Adam\n",
    "from tensorflow.keras.losses import sparse_categorical_crossentropy"
   ]
  },
  {
   "cell_type": "code",
   "execution_count": 39,
   "metadata": {},
   "outputs": [],
   "source": [
    "# 2. Load full data\n",
    "def load_data(path):\n",
    "    with open(path, 'r') as f:\n",
    "        return f.read().strip().split('\\n')\n"
   ]
  },
  {
   "cell_type": "code",
   "execution_count": 40,
   "metadata": {},
   "outputs": [
    {
     "name": "stdout",
     "output_type": "stream",
     "text": [
      "Total sentence-pairs: 137860\n"
     ]
    }
   ],
   "source": [
    "eng_all = load_data('data\\\\small_vocab_en.txt')\n",
    "fr_all  = load_data('data\\\\small_vocab_fr.txt')\n",
    "print(f\"Total sentence-pairs: {len(eng_all)}\")"
   ]
  },
  {
   "cell_type": "code",
   "execution_count": 41,
   "metadata": {},
   "outputs": [
    {
     "name": "stdout",
     "output_type": "stream",
     "text": [
      "Pairs under 200 tokens: 137860\n"
     ]
    }
   ],
   "source": [
    "# 3. Filter to <25 tokens each\n",
    "pairs = list(zip(eng_all, fr_all))\n",
    "filtered = [\n",
    "    (e, f) for e, f in pairs\n",
    "    if len(e.split()) < 200 and len(f.split()) < 200\n",
    "]\n",
    "print(f\"Pairs under 200 tokens: {len(filtered)}\")"
   ]
  },
  {
   "cell_type": "code",
   "execution_count": 42,
   "metadata": {},
   "outputs": [
    {
     "name": "stdout",
     "output_type": "stream",
     "text": [
      "Using 137860 pairs (100%)\n"
     ]
    }
   ],
   "source": [
    "# 4. Sample 40%\n",
    "random.seed(1)\n",
    "n_sample = int(1 * len(filtered))\n",
    "sampled = random.sample(filtered, n_sample)\n",
    "eng_sentences, fr_sentences = zip(*sampled)\n",
    "print(f\"Using {len(eng_sentences)} pairs (100%)\")"
   ]
  },
  {
   "cell_type": "code",
   "execution_count": 43,
   "metadata": {},
   "outputs": [],
   "source": [
    "# 5. Tokenize + pad + preprocess\n",
    "def tokenize(sentences):\n",
    "    tk = Tokenizer(char_level=False)\n",
    "    tk.fit_on_texts(sentences)\n",
    "    seqs = tk.texts_to_sequences(sentences)\n",
    "    return seqs, tk"
   ]
  },
  {
   "cell_type": "code",
   "execution_count": 44,
   "metadata": {},
   "outputs": [],
   "source": [
    "def preprocess(x, y):\n",
    "    x_seq, x_tk = tokenize(x)\n",
    "    y_seq, y_tk = tokenize(y)\n",
    "    x_pad = pad_sequences(x_seq, padding='post')\n",
    "    y_pad = pad_sequences(y_seq, padding='post')\n",
    "    # expand y for sparse loss: (batch, seq_len, 1)\n",
    "    y_pad = y_pad.reshape(*y_pad.shape, 1)\n",
    "    return x_pad, y_pad, x_tk, y_tk\n"
   ]
  },
  {
   "cell_type": "code",
   "execution_count": 45,
   "metadata": {},
   "outputs": [
    {
     "name": "stdout",
     "output_type": "stream",
     "text": [
      "Max English len: 15\n",
      "Max French  len: 21\n",
      "English vocab size: 200\n",
      "French  vocab size: 346\n"
     ]
    }
   ],
   "source": [
    "X, Y, eng_tk, fr_tk = preprocess(eng_sentences, fr_sentences)\n",
    "max_eng_len = X.shape[1]\n",
    "max_fr_len  = Y.shape[1]\n",
    "eng_vocab   = len(eng_tk.word_index) + 1\n",
    "fr_vocab    = len(fr_tk.word_index) + 1\n",
    "\n",
    "print(\"Max English len:\", max_eng_len)\n",
    "print(\"Max French  len:\", max_fr_len)\n",
    "print(\"English vocab size:\", eng_vocab)\n",
    "print(\"French  vocab size:\", fr_vocab)\n"
   ]
  },
  {
   "cell_type": "code",
   "execution_count": 46,
   "metadata": {},
   "outputs": [],
   "source": [
    "# 6. Build model\n",
    "def embed_model(input_shape, output_seq_len, eng_vocab_size, fr_vocab_size):\n",
    "    model = Sequential()\n",
    "    model.add(Embedding(input_dim=eng_vocab_size, output_dim=64,\n",
    "                        input_length=input_shape[1]))\n",
    "    model.add(GRU(64, return_sequences=True, activation='tanh'))\n",
    "    model.add(TimeDistributed(Dense(fr_vocab_size, activation='softmax')))\n",
    "    model.compile(\n",
    "        loss=sparse_categorical_crossentropy,\n",
    "        optimizer=Adam(1e-3),\n",
    "        metrics=['accuracy']\n",
    "    )\n",
    "    return model"
   ]
  },
  {
   "cell_type": "code",
   "execution_count": 47,
   "metadata": {},
   "outputs": [],
   "source": [
    "# pad English up to French length for 1:1 timesteps\n",
    "X_train = pad_sequences(X, maxlen=max_fr_len, padding='post')"
   ]
  },
  {
   "cell_type": "code",
   "execution_count": 48,
   "metadata": {},
   "outputs": [
    {
     "data": {
      "text/html": [
       "<pre style=\"white-space:pre;overflow-x:auto;line-height:normal;font-family:Menlo,'DejaVu Sans Mono',consolas,'Courier New',monospace\"><span style=\"font-weight: bold\">Model: \"sequential_2\"</span>\n",
       "</pre>\n"
      ],
      "text/plain": [
       "\u001b[1mModel: \"sequential_2\"\u001b[0m\n"
      ]
     },
     "metadata": {},
     "output_type": "display_data"
    },
    {
     "data": {
      "text/html": [
       "<pre style=\"white-space:pre;overflow-x:auto;line-height:normal;font-family:Menlo,'DejaVu Sans Mono',consolas,'Courier New',monospace\">┏━━━━━━━━━━━━━━━━━━━━━━━━━━━━━━━━━━━━━━┳━━━━━━━━━━━━━━━━━━━━━━━━━━━━━┳━━━━━━━━━━━━━━━━━┓\n",
       "┃<span style=\"font-weight: bold\"> Layer (type)                         </span>┃<span style=\"font-weight: bold\"> Output Shape                </span>┃<span style=\"font-weight: bold\">         Param # </span>┃\n",
       "┡━━━━━━━━━━━━━━━━━━━━━━━━━━━━━━━━━━━━━━╇━━━━━━━━━━━━━━━━━━━━━━━━━━━━━╇━━━━━━━━━━━━━━━━━┩\n",
       "│ embedding_2 (<span style=\"color: #0087ff; text-decoration-color: #0087ff\">Embedding</span>)              │ ?                           │     <span style=\"color: #00af00; text-decoration-color: #00af00\">0</span> (unbuilt) │\n",
       "├──────────────────────────────────────┼─────────────────────────────┼─────────────────┤\n",
       "│ gru_2 (<span style=\"color: #0087ff; text-decoration-color: #0087ff\">GRU</span>)                          │ ?                           │     <span style=\"color: #00af00; text-decoration-color: #00af00\">0</span> (unbuilt) │\n",
       "├──────────────────────────────────────┼─────────────────────────────┼─────────────────┤\n",
       "│ time_distributed_2 (<span style=\"color: #0087ff; text-decoration-color: #0087ff\">TimeDistributed</span>) │ ?                           │     <span style=\"color: #00af00; text-decoration-color: #00af00\">0</span> (unbuilt) │\n",
       "└──────────────────────────────────────┴─────────────────────────────┴─────────────────┘\n",
       "</pre>\n"
      ],
      "text/plain": [
       "┏━━━━━━━━━━━━━━━━━━━━━━━━━━━━━━━━━━━━━━┳━━━━━━━━━━━━━━━━━━━━━━━━━━━━━┳━━━━━━━━━━━━━━━━━┓\n",
       "┃\u001b[1m \u001b[0m\u001b[1mLayer (type)                        \u001b[0m\u001b[1m \u001b[0m┃\u001b[1m \u001b[0m\u001b[1mOutput Shape               \u001b[0m\u001b[1m \u001b[0m┃\u001b[1m \u001b[0m\u001b[1m        Param #\u001b[0m\u001b[1m \u001b[0m┃\n",
       "┡━━━━━━━━━━━━━━━━━━━━━━━━━━━━━━━━━━━━━━╇━━━━━━━━━━━━━━━━━━━━━━━━━━━━━╇━━━━━━━━━━━━━━━━━┩\n",
       "│ embedding_2 (\u001b[38;5;33mEmbedding\u001b[0m)              │ ?                           │     \u001b[38;5;34m0\u001b[0m (unbuilt) │\n",
       "├──────────────────────────────────────┼─────────────────────────────┼─────────────────┤\n",
       "│ gru_2 (\u001b[38;5;33mGRU\u001b[0m)                          │ ?                           │     \u001b[38;5;34m0\u001b[0m (unbuilt) │\n",
       "├──────────────────────────────────────┼─────────────────────────────┼─────────────────┤\n",
       "│ time_distributed_2 (\u001b[38;5;33mTimeDistributed\u001b[0m) │ ?                           │     \u001b[38;5;34m0\u001b[0m (unbuilt) │\n",
       "└──────────────────────────────────────┴─────────────────────────────┴─────────────────┘\n"
      ]
     },
     "metadata": {},
     "output_type": "display_data"
    },
    {
     "data": {
      "text/html": [
       "<pre style=\"white-space:pre;overflow-x:auto;line-height:normal;font-family:Menlo,'DejaVu Sans Mono',consolas,'Courier New',monospace\"><span style=\"font-weight: bold\"> Total params: </span><span style=\"color: #00af00; text-decoration-color: #00af00\">0</span> (0.00 B)\n",
       "</pre>\n"
      ],
      "text/plain": [
       "\u001b[1m Total params: \u001b[0m\u001b[38;5;34m0\u001b[0m (0.00 B)\n"
      ]
     },
     "metadata": {},
     "output_type": "display_data"
    },
    {
     "data": {
      "text/html": [
       "<pre style=\"white-space:pre;overflow-x:auto;line-height:normal;font-family:Menlo,'DejaVu Sans Mono',consolas,'Courier New',monospace\"><span style=\"font-weight: bold\"> Trainable params: </span><span style=\"color: #00af00; text-decoration-color: #00af00\">0</span> (0.00 B)\n",
       "</pre>\n"
      ],
      "text/plain": [
       "\u001b[1m Trainable params: \u001b[0m\u001b[38;5;34m0\u001b[0m (0.00 B)\n"
      ]
     },
     "metadata": {},
     "output_type": "display_data"
    },
    {
     "data": {
      "text/html": [
       "<pre style=\"white-space:pre;overflow-x:auto;line-height:normal;font-family:Menlo,'DejaVu Sans Mono',consolas,'Courier New',monospace\"><span style=\"font-weight: bold\"> Non-trainable params: </span><span style=\"color: #00af00; text-decoration-color: #00af00\">0</span> (0.00 B)\n",
       "</pre>\n"
      ],
      "text/plain": [
       "\u001b[1m Non-trainable params: \u001b[0m\u001b[38;5;34m0\u001b[0m (0.00 B)\n"
      ]
     },
     "metadata": {},
     "output_type": "display_data"
    }
   ],
   "source": [
    "model = embed_model(X_train.shape, max_fr_len, eng_vocab, fr_vocab)\n",
    "model.summary()"
   ]
  },
  {
   "cell_type": "code",
   "execution_count": 49,
   "metadata": {},
   "outputs": [
    {
     "name": "stdout",
     "output_type": "stream",
     "text": [
      "Epoch 1/10\n",
      "\u001b[1m108/108\u001b[0m \u001b[32m━━━━━━━━━━━━━━━━━━━━\u001b[0m\u001b[37m\u001b[0m \u001b[1m72s\u001b[0m 556ms/step - accuracy: 0.4534 - loss: 3.7949 - val_accuracy: 0.6104 - val_loss: 1.9488\n",
      "Epoch 2/10\n",
      "\u001b[1m108/108\u001b[0m \u001b[32m━━━━━━━━━━━━━━━━━━━━\u001b[0m\u001b[37m\u001b[0m \u001b[1m56s\u001b[0m 520ms/step - accuracy: 0.6368 - loss: 1.7255 - val_accuracy: 0.6801 - val_loss: 1.2814\n",
      "Epoch 3/10\n",
      "\u001b[1m108/108\u001b[0m \u001b[32m━━━━━━━━━━━━━━━━━━━━\u001b[0m\u001b[37m\u001b[0m \u001b[1m56s\u001b[0m 519ms/step - accuracy: 0.6875 - loss: 1.2009 - val_accuracy: 0.7205 - val_loss: 1.0060\n",
      "Epoch 4/10\n",
      "\u001b[1m108/108\u001b[0m \u001b[32m━━━━━━━━━━━━━━━━━━━━\u001b[0m\u001b[37m\u001b[0m \u001b[1m56s\u001b[0m 520ms/step - accuracy: 0.7336 - loss: 0.9480 - val_accuracy: 0.7745 - val_loss: 0.8082\n",
      "Epoch 5/10\n",
      "\u001b[1m108/108\u001b[0m \u001b[32m━━━━━━━━━━━━━━━━━━━━\u001b[0m\u001b[37m\u001b[0m \u001b[1m56s\u001b[0m 521ms/step - accuracy: 0.7845 - loss: 0.7705 - val_accuracy: 0.8083 - val_loss: 0.6900\n",
      "Epoch 6/10\n",
      "\u001b[1m108/108\u001b[0m \u001b[32m━━━━━━━━━━━━━━━━━━━━\u001b[0m\u001b[37m\u001b[0m \u001b[1m58s\u001b[0m 535ms/step - accuracy: 0.8148 - loss: 0.6612 - val_accuracy: 0.8275 - val_loss: 0.6099\n",
      "Epoch 7/10\n",
      "\u001b[1m108/108\u001b[0m \u001b[32m━━━━━━━━━━━━━━━━━━━━\u001b[0m\u001b[37m\u001b[0m \u001b[1m59s\u001b[0m 546ms/step - accuracy: 0.8335 - loss: 0.5857 - val_accuracy: 0.8425 - val_loss: 0.5521\n",
      "Epoch 8/10\n",
      "\u001b[1m108/108\u001b[0m \u001b[32m━━━━━━━━━━━━━━━━━━━━\u001b[0m\u001b[37m\u001b[0m \u001b[1m63s\u001b[0m 583ms/step - accuracy: 0.8468 - loss: 0.5332 - val_accuracy: 0.8542 - val_loss: 0.5061\n",
      "Epoch 9/10\n",
      "\u001b[1m108/108\u001b[0m \u001b[32m━━━━━━━━━━━━━━━━━━━━\u001b[0m\u001b[37m\u001b[0m \u001b[1m63s\u001b[0m 579ms/step - accuracy: 0.8586 - loss: 0.4891 - val_accuracy: 0.8665 - val_loss: 0.4691\n",
      "Epoch 10/10\n",
      "\u001b[1m108/108\u001b[0m \u001b[32m━━━━━━━━━━━━━━━━━━━━\u001b[0m\u001b[37m\u001b[0m \u001b[1m58s\u001b[0m 534ms/step - accuracy: 0.8695 - loss: 0.4551 - val_accuracy: 0.8746 - val_loss: 0.4390\n"
     ]
    }
   ],
   "source": [
    "# 7. Train\n",
    "history = model.fit(\n",
    "    X_train, Y,\n",
    "    batch_size=1024,\n",
    "    epochs=10,\n",
    "    validation_split=0.2\n",
    ")"
   ]
  },
  {
   "cell_type": "code",
   "execution_count": 50,
   "metadata": {},
   "outputs": [
    {
     "name": "stdout",
     "output_type": "stream",
     "text": [
      "Epoch 1/5\n",
      "\u001b[1m108/108\u001b[0m \u001b[32m━━━━━━━━━━━━━━━━━━━━\u001b[0m\u001b[37m\u001b[0m \u001b[1m57s\u001b[0m 523ms/step - accuracy: 0.8778 - loss: 0.4253 - val_accuracy: 0.8819 - val_loss: 0.4140\n",
      "Epoch 2/5\n",
      "\u001b[1m108/108\u001b[0m \u001b[32m━━━━━━━━━━━━━━━━━━━━\u001b[0m\u001b[37m\u001b[0m \u001b[1m56s\u001b[0m 518ms/step - accuracy: 0.8848 - loss: 0.3994 - val_accuracy: 0.8872 - val_loss: 0.3934\n",
      "Epoch 3/5\n",
      "\u001b[1m108/108\u001b[0m \u001b[32m━━━━━━━━━━━━━━━━━━━━\u001b[0m\u001b[37m\u001b[0m \u001b[1m56s\u001b[0m 521ms/step - accuracy: 0.8895 - loss: 0.3824 - val_accuracy: 0.8918 - val_loss: 0.3769\n",
      "Epoch 4/5\n",
      "\u001b[1m108/108\u001b[0m \u001b[32m━━━━━━━━━━━━━━━━━━━━\u001b[0m\u001b[37m\u001b[0m \u001b[1m56s\u001b[0m 519ms/step - accuracy: 0.8948 - loss: 0.3658 - val_accuracy: 0.8956 - val_loss: 0.3631\n",
      "Epoch 5/5\n",
      "\u001b[1m108/108\u001b[0m \u001b[32m━━━━━━━━━━━━━━━━━━━━\u001b[0m\u001b[37m\u001b[0m \u001b[1m56s\u001b[0m 518ms/step - accuracy: 0.8982 - loss: 0.3498 - val_accuracy: 0.8968 - val_loss: 0.3544\n"
     ]
    }
   ],
   "source": [
    "# 8. Train again for 5 epochs\n",
    "history = model.fit(\n",
    "    X_train, Y,\n",
    "    batch_size=1024,\n",
    "    epochs=5,\n",
    "    validation_split=0.2\n",
    ")"
   ]
  },
  {
   "cell_type": "code",
   "execution_count": 51,
   "metadata": {
    "colab": {
     "base_uri": "https://localhost:8080/",
     "height": 817
    },
    "id": "ixLntguFcOoa",
    "outputId": "d82bf76d-a98a-4e43-e8e8-2abed79b6f9b"
   },
   "outputs": [
    {
     "name": "stdout",
     "output_type": "stream",
     "text": [
      "\u001b[1m1/1\u001b[0m \u001b[32m━━━━━━━━━━━━━━━━━━━━\u001b[0m\u001b[37m\u001b[0m \u001b[1m1s\u001b[0m 1s/step\n",
      "Source:    the united states is usually busy during september , and it is usually freezing in november .\n",
      "Predicted: les ã©tats unis est gã©nã©ralement occupã© en septembre et il est gã©nã©ralement en <PAD> <PAD> <PAD> <PAD> <PAD> <PAD> <PAD> <PAD>\n"
     ]
    }
   ],
   "source": [
    "# 8. Inference helper\n",
    "def logits_to_text(logits, tokenizer):\n",
    "    idx2w = {i: w for w, i in tokenizer.word_index.items()}\n",
    "    idx2w[0] = '<PAD>'\n",
    "    tokens = np.argmax(logits, axis=1)\n",
    "    return ' '.join(idx2w[t] for t in tokens)\n",
    "\n",
    "# Quick test\n",
    "sample_x = X_train[:1]\n",
    "pred = model.predict(sample_x)[0]   # shape: (seq_len, fr_vocab)\n",
    "print(\"Source:   \", eng_sentences[0])\n",
    "print(\"Predicted:\", logits_to_text(pred, fr_tk))"
   ]
  },
  {
   "cell_type": "code",
   "execution_count": 52,
   "metadata": {},
   "outputs": [
    {
     "name": "stderr",
     "output_type": "stream",
     "text": [
      "WARNING:absl:You are saving your model as an HDF5 file via `model.save()` or `keras.saving.save_model(model)`. This file format is considered legacy. We recommend using instead the native Keras format, e.g. `model.save('my_model.keras')` or `keras.saving.save_model(model, 'my_model.keras')`. \n"
     ]
    }
   ],
   "source": [
    "# 1. Save model, tokenizers & config\n",
    "import pickle\n",
    "from keras.models import load_model\n",
    "\n",
    "# — assume `model`, `eng_tk`, `fr_tk`, and `max_fr_len` are in your workspace from training\n",
    "model.save('translator_model.h5')\n",
    "\n",
    "with open('eng_tokenizer.pkl', 'wb') as f:\n",
    "    pickle.dump(eng_tk, f)\n",
    "with open('fr_tokenizer.pkl', 'wb') as f:\n",
    "    pickle.dump(fr_tk, f)\n",
    "with open('config.pkl', 'wb') as f:\n",
    "    # only need to save the max french sequence length\n",
    "    pickle.dump({'max_fr_len': max_fr_len}, f)"
   ]
  },
  {
   "cell_type": "code",
   "execution_count": 5,
   "metadata": {
    "id": "YsyCKUxccnCt"
   },
   "outputs": [],
   "source": [
    "\n",
    "# 3. Translation function\n",
    "import numpy as np\n",
    "from keras.preprocessing.sequence import pad_sequences\n",
    "import pickle\n",
    "from keras.models import load_model\n",
    "\n",
    "def translate_sentence(\n",
    "    sentence,\n",
    "    model_path='translator_model_j1.h5',\n",
    "    eng_tok_path='eng_tokenizer.pkl',\n",
    "    fr_tok_path='fr_tokenizer.pkl',\n",
    "    config_path='config.pkl'\n",
    "):\n",
    "    \"\"\"\n",
    "    Load the saved model and tokenizers, preprocess `sentence` (English),\n",
    "    and return the predicted French translation as a string.\n",
    "    \"\"\"\n",
    "    # load model & artifacts\n",
    "    model = load_model(model_path)\n",
    "    with open(eng_tok_path, 'rb') as f:\n",
    "        eng_tk = pickle.load(f)\n",
    "    with open(fr_tok_path, 'rb') as f:\n",
    "        fr_tk = pickle.load(f)\n",
    "    with open(config_path, 'rb') as f:\n",
    "        cfg = pickle.load(f)\n",
    "    max_fr_len = cfg['max_fr_len']\n",
    "\n",
    "    # tokenize & pad\n",
    "    seq = eng_tk.texts_to_sequences([sentence])\n",
    "    seq_pad = pad_sequences(seq, maxlen=max_fr_len, padding='post')\n",
    "\n",
    "    # predict\n",
    "    logits = model.predict(seq_pad)[0]          # shape: (max_fr_len, fr_vocab)\n",
    "    token_ids = np.argmax(logits, axis=1).tolist()\n",
    "\n",
    "    # map back to words, dropping any trailing <PAD>\n",
    "    idx2word = {i: w for w, i in fr_tk.word_index.items()}\n",
    "    idx2word[0] = '<PAD>'\n",
    "    # stop at first pad (optional)\n",
    "    if 0 in token_ids:\n",
    "        token_ids = token_ids[:token_ids.index(0)]\n",
    "\n",
    "    return ' '.join(idx2word[idx] for idx in token_ids)\n"
   ]
  },
  {
   "cell_type": "code",
   "execution_count": 17,
   "metadata": {},
   "outputs": [
    {
     "name": "stderr",
     "output_type": "stream",
     "text": [
      "WARNING:absl:Compiled the loaded model, but the compiled metrics have yet to be built. `model.compile_metrics` will be empty until you train or evaluate the model.\n"
     ]
    },
    {
     "name": "stdout",
     "output_type": "stream",
     "text": [
      "\u001b[1m1/1\u001b[0m \u001b[32m━━━━━━━━━━━━━━━━━━━━\u001b[0m\u001b[37m\u001b[0m \u001b[1m1s\u001b[0m 1s/step\n",
      "l' inde est pluvieux juin juin\n"
     ]
    }
   ],
   "source": [
    "# 4. Example usage:\n",
    "print(translate_sentence(\"india is rainy during june \"))"
   ]
  },
  {
   "cell_type": "code",
   "execution_count": 16,
   "metadata": {},
   "outputs": [
    {
     "name": "stderr",
     "output_type": "stream",
     "text": [
      "WARNING:absl:Compiled the loaded model, but the compiled metrics have yet to be built. `model.compile_metrics` will be empty until you train or evaluate the model.\n"
     ]
    },
    {
     "name": "stdout",
     "output_type": "stream",
     "text": [
      "\u001b[1m1/1\u001b[0m \u001b[32m━━━━━━━━━━━━━━━━━━━━\u001b[0m\u001b[37m\u001b[0m \u001b[1m2s\u001b[0m 2s/step\n",
      "et il est est chaud en en novembre\n"
     ]
    }
   ],
   "source": [
    "\n",
    "print(translate_sentence(\"and it is sometimes warm in november .\"))"
   ]
  },
  {
   "cell_type": "code",
   "execution_count": 18,
   "metadata": {},
   "outputs": [
    {
     "name": "stderr",
     "output_type": "stream",
     "text": [
      "WARNING:absl:Compiled the loaded model, but the compiled metrics have yet to be built. `model.compile_metrics` will be empty until you train or evaluate the model.\n"
     ]
    },
    {
     "name": "stdout",
     "output_type": "stream",
     "text": [
      "\u001b[1m1/1\u001b[0m \u001b[32m━━━━━━━━━━━━━━━━━━━━\u001b[0m\u001b[37m\u001b[0m \u001b[1m1s\u001b[0m 1s/step\n",
      "l' inde est pluvieux juin et il est parfois chaud en novembre\n"
     ]
    }
   ],
   "source": [
    "# 4. Example usage:\n",
    "print(translate_sentence(\"india is rainy during june , and it is sometimes warm in november .\"))"
   ]
  },
  {
   "cell_type": "code",
   "execution_count": 24,
   "metadata": {},
   "outputs": [
    {
     "name": "stderr",
     "output_type": "stream",
     "text": [
      "WARNING:absl:Compiled the loaded model, but the compiled metrics have yet to be built. `model.compile_metrics` will be empty until you train or evaluate the model.\n"
     ]
    },
    {
     "name": "stdout",
     "output_type": "stream",
     "text": [
      "\u001b[1m1/1\u001b[0m \u001b[32m━━━━━━━━━━━━━━━━━━━━\u001b[0m\u001b[37m\u001b[0m \u001b[1m2s\u001b[0m 2s/step\n",
      "mon est\n"
     ]
    }
   ],
   "source": [
    "# 4. Example usage:\n",
    "#some words are not in data like \"name\" so while prediction it will show nothing inplace of that word\n",
    "print(translate_sentence(\"my name is\"))"
   ]
  },
  {
   "cell_type": "code",
   "execution_count": null,
   "metadata": {},
   "outputs": [],
   "source": []
  }
 ],
 "metadata": {
  "accelerator": "GPU",
  "colab": {
   "gpuType": "T4",
   "provenance": []
  },
  "kernelspec": {
   "display_name": "Python 3 (ipykernel)",
   "language": "python",
   "name": "python3"
  },
  "language_info": {
   "codemirror_mode": {
    "name": "ipython",
    "version": 3
   },
   "file_extension": ".py",
   "mimetype": "text/x-python",
   "name": "python",
   "nbconvert_exporter": "python",
   "pygments_lexer": "ipython3",
   "version": "3.11.5"
  }
 },
 "nbformat": 4,
 "nbformat_minor": 1
}
